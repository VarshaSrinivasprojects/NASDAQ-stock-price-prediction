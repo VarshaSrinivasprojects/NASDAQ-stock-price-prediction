{
  "nbformat": 4,
  "nbformat_minor": 0,
  "metadata": {
    "colab": {
      "name": "Demo_6.ipynb",
      "provenance": [],
      "collapsed_sections": []
    },
    "kernelspec": {
      "name": "python3",
      "display_name": "Python 3"
    },
    "language_info": {
      "name": "python"
    },
    "accelerator": "GPU"
  },
  "cells": [
    {
      "cell_type": "markdown",
      "metadata": {
        "id": "HUGO5462PhWL"
      },
      "source": [
        "Download 5 years of data from: https://www.nasdaq.com/market-activity/stocks/goog/historical"
      ]
    },
    {
      "cell_type": "code",
      "metadata": {
        "id": "ubJj7UUZlHg9"
      },
      "source": [
        "import numpy as np\n",
        "import pandas as pd\n",
        "import matplotlib.pyplot as plt\n",
        "%matplotlib inline\n",
        "\n",
        "import math\n",
        "\n",
        "from sklearn.preprocessing import MinMaxScaler\n",
        "\n",
        "from tensorflow.python.keras import Sequential\n",
        "from tensorflow.python.keras.layers import Dense, LSTM\n",
        "\n",
        "from google.colab import drive"
      ],
      "execution_count": null,
      "outputs": []
    },
    {
      "cell_type": "code",
      "metadata": {
        "id": "vlsH9sq5PMfp"
      },
      "source": [
        "plt.rcParams['figure.figsize'] = (9,9) # Make the figures a bit bigger"
      ],
      "execution_count": null,
      "outputs": []
    },
    {
      "cell_type": "code",
      "metadata": {
        "colab": {
          "base_uri": "https://localhost:8080/"
        },
        "id": "GBbcXPeSmdSZ",
        "outputId": "d4cce249-9549-4f4b-a882-4f6b07e9aa2e"
      },
      "source": [
        "drive.mount('/content/drive')"
      ],
      "execution_count": null,
      "outputs": [
        {
          "output_type": "stream",
          "text": [
            "Drive already mounted at /content/drive; to attempt to forcibly remount, call drive.mount(\"/content/drive\", force_remount=True).\n"
          ],
          "name": "stdout"
        }
      ]
    },
    {
      "cell_type": "code",
      "metadata": {
        "colab": {
          "base_uri": "https://localhost:8080/"
        },
        "id": "1ay5FsEnmgHg",
        "outputId": "f1db7a42-9a53-42ca-8b28-ab7fbf5b7c29"
      },
      "source": [
        "%cd /content/drive/My Drive/Colab Notebooks/"
      ],
      "execution_count": null,
      "outputs": [
        {
          "output_type": "stream",
          "text": [
            "/content/drive/My Drive/Colab Notebooks\n"
          ],
          "name": "stdout"
        }
      ]
    },
    {
      "cell_type": "code",
      "metadata": {
        "id": "ejVl1d8OmqV1"
      },
      "source": [
        "stock_data = pd.read_csv('historical_google.csv')"
      ],
      "execution_count": null,
      "outputs": []
    },
    {
      "cell_type": "code",
      "metadata": {
        "colab": {
          "base_uri": "https://localhost:8080/",
          "height": 204
        },
        "id": "7267BeNBm1Iz",
        "outputId": "0c7cd026-940d-4491-95eb-c8515b5656b8"
      },
      "source": [
        "stock_data.head()"
      ],
      "execution_count": null,
      "outputs": [
        {
          "output_type": "execute_result",
          "data": {
            "text/html": [
              "<div>\n",
              "<style scoped>\n",
              "    .dataframe tbody tr th:only-of-type {\n",
              "        vertical-align: middle;\n",
              "    }\n",
              "\n",
              "    .dataframe tbody tr th {\n",
              "        vertical-align: top;\n",
              "    }\n",
              "\n",
              "    .dataframe thead th {\n",
              "        text-align: right;\n",
              "    }\n",
              "</style>\n",
              "<table border=\"1\" class=\"dataframe\">\n",
              "  <thead>\n",
              "    <tr style=\"text-align: right;\">\n",
              "      <th></th>\n",
              "      <th>Date</th>\n",
              "      <th>Close/Last</th>\n",
              "      <th>Volume</th>\n",
              "      <th>Open</th>\n",
              "      <th>High</th>\n",
              "      <th>Low</th>\n",
              "    </tr>\n",
              "  </thead>\n",
              "  <tbody>\n",
              "    <tr>\n",
              "      <th>0</th>\n",
              "      <td>07/23/2021</td>\n",
              "      <td>$2756.32</td>\n",
              "      <td>1318887</td>\n",
              "      <td>$2705.2</td>\n",
              "      <td>$2776.17</td>\n",
              "      <td>$2694.01</td>\n",
              "    </tr>\n",
              "    <tr>\n",
              "      <th>1</th>\n",
              "      <td>07/22/2021</td>\n",
              "      <td>$2666.57</td>\n",
              "      <td>680407</td>\n",
              "      <td>$2653</td>\n",
              "      <td>$2670.09</td>\n",
              "      <td>$2648</td>\n",
              "    </tr>\n",
              "    <tr>\n",
              "      <th>2</th>\n",
              "      <td>07/21/2021</td>\n",
              "      <td>$2652.01</td>\n",
              "      <td>737082</td>\n",
              "      <td>$2615.74</td>\n",
              "      <td>$2652.345</td>\n",
              "      <td>$2612.03</td>\n",
              "    </tr>\n",
              "    <tr>\n",
              "      <th>3</th>\n",
              "      <td>07/20/2021</td>\n",
              "      <td>$2622.03</td>\n",
              "      <td>954156</td>\n",
              "      <td>$2600.08</td>\n",
              "      <td>$2640.0271</td>\n",
              "      <td>$2583.7675</td>\n",
              "    </tr>\n",
              "    <tr>\n",
              "      <th>4</th>\n",
              "      <td>07/19/2021</td>\n",
              "      <td>$2585.08</td>\n",
              "      <td>1285466</td>\n",
              "      <td>$2623.11</td>\n",
              "      <td>$2624.94</td>\n",
              "      <td>$2570.74</td>\n",
              "    </tr>\n",
              "  </tbody>\n",
              "</table>\n",
              "</div>"
            ],
            "text/plain": [
              "         Date Close/Last   Volume      Open        High         Low\n",
              "0  07/23/2021   $2756.32  1318887   $2705.2    $2776.17    $2694.01\n",
              "1  07/22/2021   $2666.57   680407     $2653    $2670.09       $2648\n",
              "2  07/21/2021   $2652.01   737082  $2615.74   $2652.345    $2612.03\n",
              "3  07/20/2021   $2622.03   954156  $2600.08  $2640.0271  $2583.7675\n",
              "4  07/19/2021   $2585.08  1285466  $2623.11    $2624.94    $2570.74"
            ]
          },
          "metadata": {
            "tags": []
          },
          "execution_count": 6
        }
      ]
    },
    {
      "cell_type": "code",
      "metadata": {
        "colab": {
          "base_uri": "https://localhost:8080/"
        },
        "id": "JkOrs-lCm4hl",
        "outputId": "6a77945d-c745-484a-c0dc-249f11b7048f"
      },
      "source": [
        "stock_data.info()"
      ],
      "execution_count": null,
      "outputs": [
        {
          "output_type": "stream",
          "text": [
            "<class 'pandas.core.frame.DataFrame'>\n",
            "RangeIndex: 1259 entries, 0 to 1258\n",
            "Data columns (total 6 columns):\n",
            " #   Column      Non-Null Count  Dtype \n",
            "---  ------      --------------  ----- \n",
            " 0   Date        1259 non-null   object\n",
            " 1   Close/Last  1259 non-null   object\n",
            " 2   Volume      1259 non-null   int64 \n",
            " 3   Open        1259 non-null   object\n",
            " 4   High        1259 non-null   object\n",
            " 5   Low         1259 non-null   object\n",
            "dtypes: int64(1), object(5)\n",
            "memory usage: 59.1+ KB\n"
          ],
          "name": "stdout"
        }
      ]
    },
    {
      "cell_type": "code",
      "metadata": {
        "id": "r-2KT5TJnyxY"
      },
      "source": [
        "stock_data[stock_data.columns[1:2]] = stock_data[stock_data.columns[1:2]].replace('[\\$,]', '', regex=True).astype(float)\n",
        "stock_data[stock_data.columns[3:]] = stock_data[stock_data.columns[3:]].replace('[\\$,]', '', regex=True).astype(float)"
      ],
      "execution_count": null,
      "outputs": []
    },
    {
      "cell_type": "code",
      "metadata": {
        "colab": {
          "base_uri": "https://localhost:8080/",
          "height": 204
        },
        "id": "1tb6v3tPoOla",
        "outputId": "2f00beaf-7bb6-44a5-c5f0-b9d0d316ae9f"
      },
      "source": [
        "stock_data.head()"
      ],
      "execution_count": null,
      "outputs": [
        {
          "output_type": "execute_result",
          "data": {
            "text/html": [
              "<div>\n",
              "<style scoped>\n",
              "    .dataframe tbody tr th:only-of-type {\n",
              "        vertical-align: middle;\n",
              "    }\n",
              "\n",
              "    .dataframe tbody tr th {\n",
              "        vertical-align: top;\n",
              "    }\n",
              "\n",
              "    .dataframe thead th {\n",
              "        text-align: right;\n",
              "    }\n",
              "</style>\n",
              "<table border=\"1\" class=\"dataframe\">\n",
              "  <thead>\n",
              "    <tr style=\"text-align: right;\">\n",
              "      <th></th>\n",
              "      <th>Date</th>\n",
              "      <th>Close/Last</th>\n",
              "      <th>Volume</th>\n",
              "      <th>Open</th>\n",
              "      <th>High</th>\n",
              "      <th>Low</th>\n",
              "    </tr>\n",
              "  </thead>\n",
              "  <tbody>\n",
              "    <tr>\n",
              "      <th>0</th>\n",
              "      <td>07/23/2021</td>\n",
              "      <td>2756.32</td>\n",
              "      <td>1318887</td>\n",
              "      <td>2705.20</td>\n",
              "      <td>2776.1700</td>\n",
              "      <td>2694.0100</td>\n",
              "    </tr>\n",
              "    <tr>\n",
              "      <th>1</th>\n",
              "      <td>07/22/2021</td>\n",
              "      <td>2666.57</td>\n",
              "      <td>680407</td>\n",
              "      <td>2653.00</td>\n",
              "      <td>2670.0900</td>\n",
              "      <td>2648.0000</td>\n",
              "    </tr>\n",
              "    <tr>\n",
              "      <th>2</th>\n",
              "      <td>07/21/2021</td>\n",
              "      <td>2652.01</td>\n",
              "      <td>737082</td>\n",
              "      <td>2615.74</td>\n",
              "      <td>2652.3450</td>\n",
              "      <td>2612.0300</td>\n",
              "    </tr>\n",
              "    <tr>\n",
              "      <th>3</th>\n",
              "      <td>07/20/2021</td>\n",
              "      <td>2622.03</td>\n",
              "      <td>954156</td>\n",
              "      <td>2600.08</td>\n",
              "      <td>2640.0271</td>\n",
              "      <td>2583.7675</td>\n",
              "    </tr>\n",
              "    <tr>\n",
              "      <th>4</th>\n",
              "      <td>07/19/2021</td>\n",
              "      <td>2585.08</td>\n",
              "      <td>1285466</td>\n",
              "      <td>2623.11</td>\n",
              "      <td>2624.9400</td>\n",
              "      <td>2570.7400</td>\n",
              "    </tr>\n",
              "  </tbody>\n",
              "</table>\n",
              "</div>"
            ],
            "text/plain": [
              "         Date  Close/Last   Volume     Open       High        Low\n",
              "0  07/23/2021     2756.32  1318887  2705.20  2776.1700  2694.0100\n",
              "1  07/22/2021     2666.57   680407  2653.00  2670.0900  2648.0000\n",
              "2  07/21/2021     2652.01   737082  2615.74  2652.3450  2612.0300\n",
              "3  07/20/2021     2622.03   954156  2600.08  2640.0271  2583.7675\n",
              "4  07/19/2021     2585.08  1285466  2623.11  2624.9400  2570.7400"
            ]
          },
          "metadata": {
            "tags": []
          },
          "execution_count": 9
        }
      ]
    },
    {
      "cell_type": "code",
      "metadata": {
        "colab": {
          "base_uri": "https://localhost:8080/",
          "height": 204
        },
        "id": "g1iZ9q3bnB7p",
        "outputId": "062b8d33-851c-49c0-c874-c9a61b0d5c18"
      },
      "source": [
        "stock_data[\"Average\"] = (stock_data[\"High\"] + stock_data[\"Low\"])/2\n",
        "stock_data.head()"
      ],
      "execution_count": null,
      "outputs": [
        {
          "output_type": "execute_result",
          "data": {
            "text/html": [
              "<div>\n",
              "<style scoped>\n",
              "    .dataframe tbody tr th:only-of-type {\n",
              "        vertical-align: middle;\n",
              "    }\n",
              "\n",
              "    .dataframe tbody tr th {\n",
              "        vertical-align: top;\n",
              "    }\n",
              "\n",
              "    .dataframe thead th {\n",
              "        text-align: right;\n",
              "    }\n",
              "</style>\n",
              "<table border=\"1\" class=\"dataframe\">\n",
              "  <thead>\n",
              "    <tr style=\"text-align: right;\">\n",
              "      <th></th>\n",
              "      <th>Date</th>\n",
              "      <th>Close/Last</th>\n",
              "      <th>Volume</th>\n",
              "      <th>Open</th>\n",
              "      <th>High</th>\n",
              "      <th>Low</th>\n",
              "      <th>Average</th>\n",
              "    </tr>\n",
              "  </thead>\n",
              "  <tbody>\n",
              "    <tr>\n",
              "      <th>0</th>\n",
              "      <td>07/23/2021</td>\n",
              "      <td>2756.32</td>\n",
              "      <td>1318887</td>\n",
              "      <td>2705.20</td>\n",
              "      <td>2776.1700</td>\n",
              "      <td>2694.0100</td>\n",
              "      <td>2735.0900</td>\n",
              "    </tr>\n",
              "    <tr>\n",
              "      <th>1</th>\n",
              "      <td>07/22/2021</td>\n",
              "      <td>2666.57</td>\n",
              "      <td>680407</td>\n",
              "      <td>2653.00</td>\n",
              "      <td>2670.0900</td>\n",
              "      <td>2648.0000</td>\n",
              "      <td>2659.0450</td>\n",
              "    </tr>\n",
              "    <tr>\n",
              "      <th>2</th>\n",
              "      <td>07/21/2021</td>\n",
              "      <td>2652.01</td>\n",
              "      <td>737082</td>\n",
              "      <td>2615.74</td>\n",
              "      <td>2652.3450</td>\n",
              "      <td>2612.0300</td>\n",
              "      <td>2632.1875</td>\n",
              "    </tr>\n",
              "    <tr>\n",
              "      <th>3</th>\n",
              "      <td>07/20/2021</td>\n",
              "      <td>2622.03</td>\n",
              "      <td>954156</td>\n",
              "      <td>2600.08</td>\n",
              "      <td>2640.0271</td>\n",
              "      <td>2583.7675</td>\n",
              "      <td>2611.8973</td>\n",
              "    </tr>\n",
              "    <tr>\n",
              "      <th>4</th>\n",
              "      <td>07/19/2021</td>\n",
              "      <td>2585.08</td>\n",
              "      <td>1285466</td>\n",
              "      <td>2623.11</td>\n",
              "      <td>2624.9400</td>\n",
              "      <td>2570.7400</td>\n",
              "      <td>2597.8400</td>\n",
              "    </tr>\n",
              "  </tbody>\n",
              "</table>\n",
              "</div>"
            ],
            "text/plain": [
              "         Date  Close/Last   Volume     Open       High        Low    Average\n",
              "0  07/23/2021     2756.32  1318887  2705.20  2776.1700  2694.0100  2735.0900\n",
              "1  07/22/2021     2666.57   680407  2653.00  2670.0900  2648.0000  2659.0450\n",
              "2  07/21/2021     2652.01   737082  2615.74  2652.3450  2612.0300  2632.1875\n",
              "3  07/20/2021     2622.03   954156  2600.08  2640.0271  2583.7675  2611.8973\n",
              "4  07/19/2021     2585.08  1285466  2623.11  2624.9400  2570.7400  2597.8400"
            ]
          },
          "metadata": {
            "tags": []
          },
          "execution_count": 10
        }
      ]
    },
    {
      "cell_type": "code",
      "metadata": {
        "id": "9WWKpIDpnNJt"
      },
      "source": [
        "input_data = stock_data.iloc[:,[2,6]].values"
      ],
      "execution_count": null,
      "outputs": []
    },
    {
      "cell_type": "code",
      "metadata": {
        "colab": {
          "base_uri": "https://localhost:8080/",
          "height": 567
        },
        "id": "-9zbGBacof4_",
        "outputId": "1f0f86e9-64b2-4e59-d5de-ce0a7e12010a"
      },
      "source": [
        "plt.plot(input_data[:,0])\n",
        "plt.title(\"Volume of stocks sold\")\n",
        "plt.xlabel(\"Time\")\n",
        "plt.ylabel(\"Volume\")\n",
        "plt.show()"
      ],
      "execution_count": null,
      "outputs": [
        {
          "output_type": "display_data",
          "data": {
            "image/png": "[encoded data removed]",
            "text/plain": [
              "<Figure size 648x648 with 1 Axes>"
            ]
          },
          "metadata": {
            "tags": [],
            "needs_background": "light"
          }
        }
      ]
    },
    {
      "cell_type": "code",
      "metadata": {
        "colab": {
          "base_uri": "https://localhost:8080/",
          "height": 567
        },
        "id": "A83GBH-iomc2",
        "outputId": "e7788dcf-c33c-47c7-d24f-026ae920c806"
      },
      "source": [
        "plt.plot(input_data[:,1], color='blue')\n",
        "plt.title(\"Google Stock Prices\")\n",
        "plt.xlabel(\"Time\")\n",
        "plt.ylabel(\"Opening Price\")\n",
        "plt.show()"
      ],
      "execution_count": null,
      "outputs": [
        {
          "output_type": "display_data",
          "data": {
            "image/png": "[encoded data removed]",
            "text/plain": [
              "<Figure size 648x648 with 1 Axes>"
            ]
          },
          "metadata": {
            "tags": [],
            "needs_background": "light"
          }
        }
      ]
    },
    {
      "cell_type": "code",
      "metadata": {
        "id": "AGiKgaz4ozBs"
      },
      "source": [
        "sc= MinMaxScaler(feature_range=(0,1))\n",
        "input_data[:,0:2] = sc.fit_transform(input_data[:,:])"
      ],
      "execution_count": null,
      "outputs": []
    },
    {
      "cell_type": "code",
      "metadata": {
        "id": "6gOVOISjpIK8"
      },
      "source": [
        "lookback= 50\n",
        "\n",
        "test_size=int(.3 * len(stock_data))\n",
        "X=[]\n",
        "y=[]\n",
        "for i in range(len(stock_data)-lookback-1):\n",
        "    t=[]\n",
        "    for j in range(0,lookback):\n",
        "        \n",
        "        t.append(input_data[[(i+j)], :])\n",
        "    X.append(t)\n",
        "    y.append(input_data[i+ lookback,1])"
      ],
      "execution_count": null,
      "outputs": []
    },
    {
      "cell_type": "code",
      "metadata": {
        "colab": {
          "base_uri": "https://localhost:8080/"
        },
        "id": "QIay75PZpTKz",
        "outputId": "84bf5409-34f8-40f5-fb26-0bb9ac70e824"
      },
      "source": [
        "X, y= np.array(X), np.array(y)\n",
        "X_test = X[:test_size+lookback]\n",
        "X = X.reshape(X.shape[0],lookback, 2)\n",
        "X_test = X_test.reshape(X_test.shape[0],lookback, 2)\n",
        "print(X.shape)\n",
        "print(X_test.shape)"
      ],
      "execution_count": null,
      "outputs": [
        {
          "output_type": "stream",
          "text": [
            "(1208, 50, 2)\n",
            "(427, 50, 2)\n"
          ],
          "name": "stdout"
        }
      ]
    },
    {
      "cell_type": "code",
      "metadata": {
        "colab": {
          "base_uri": "https://localhost:8080/"
        },
        "id": "Jj57ZjoZpYXw",
        "outputId": "7aadcb24-53b2-4a54-f4b5-fad40e35ea34"
      },
      "source": [
        "model = Sequential()\n",
        "model.add(LSTM(units=30, return_sequences= True, input_shape=(X.shape[1],2)))\n",
        "model.add(LSTM(units=30, return_sequences=True))\n",
        "model.add(LSTM(units=30))\n",
        "model.add(Dense(units=1))\n",
        "model.summary()"
      ],
      "execution_count": null,
      "outputs": [
        {
          "output_type": "stream",
          "text": [
            "Model: \"sequential\"\n",
            "_________________________________________________________________\n",
            "Layer (type)                 Output Shape              Param #   \n",
            "=================================================================\n",
            "lstm (LSTM)                  (None, 50, 30)            3960      \n",
            "_________________________________________________________________\n",
            "lstm_1 (LSTM)                (None, 50, 30)            7320      \n",
            "_________________________________________________________________\n",
            "lstm_2 (LSTM)                (None, 30)                7320      \n",
            "_________________________________________________________________\n",
            "dense (Dense)                (None, 1)                 31        \n",
            "=================================================================\n",
            "Total params: 18,631\n",
            "Trainable params: 18,631\n",
            "Non-trainable params: 0\n",
            "_________________________________________________________________\n"
          ],
          "name": "stdout"
        }
      ]
    },
    {
      "cell_type": "code",
      "metadata": {
        "id": "qATADoXrpqWV"
      },
      "source": [
        "model.compile(optimizer='adam', loss='mean_squared_error')"
      ],
      "execution_count": null,
      "outputs": []
    },
    {
      "cell_type": "code",
      "metadata": {
        "colab": {
          "base_uri": "https://localhost:8080/"
        },
        "id": "ZhH3_Bfcpy9s",
        "outputId": "03fecbf8-b11f-4203-c68c-59ad0c3fdae8"
      },
      "source": [
        "model.fit(X, y, epochs=200, batch_size=32)"
      ],
      "execution_count": null,
      "outputs": [
        {
          "output_type": "stream",
          "text": [
            "Epoch 1/200\n",
            "38/38 [==============================] - 25s 511ms/step - loss: 0.0143\n",
            "Epoch 2/200\n",
            "38/38 [==============================] - 18s 481ms/step - loss: 0.0011\n",
            "Epoch 3/200\n",
            "38/38 [==============================] - 18s 478ms/step - loss: 7.9813e-04\n",
            "Epoch 4/200\n",
            "38/38 [==============================] - 19s 499ms/step - loss: 7.1598e-04\n",
            "Epoch 5/200\n",
            "38/38 [==============================] - 19s 499ms/step - loss: 7.0815e-04\n",
            "Epoch 6/200\n",
            "38/38 [==============================] - 20s 517ms/step - loss: 6.8686e-04\n",
            "Epoch 7/200\n",
            "38/38 [==============================] - 18s 486ms/step - loss: 6.4068e-04\n",
            "Epoch 8/200\n",
            "38/38 [==============================] - 18s 480ms/step - loss: 6.0939e-04\n",
            "Epoch 9/200\n",
            "38/38 [==============================] - 19s 492ms/step - loss: 6.2633e-04\n",
            "Epoch 10/200\n",
            "38/38 [==============================] - 19s 503ms/step - loss: 6.8962e-04\n",
            "Epoch 11/200\n",
            "38/38 [==============================] - 18s 482ms/step - loss: 6.4700e-04\n",
            "Epoch 12/200\n",
            "38/38 [==============================] - 18s 476ms/step - loss: 5.7581e-04\n",
            "Epoch 13/200\n",
            "38/38 [==============================] - 19s 513ms/step - loss: 5.2577e-04\n",
            "Epoch 14/200\n",
            "38/38 [==============================] - 19s 490ms/step - loss: 5.1850e-04\n",
            "Epoch 15/200\n",
            "38/38 [==============================] - 18s 486ms/step - loss: 5.2165e-04\n",
            "Epoch 16/200\n",
            "38/38 [==============================] - 19s 492ms/step - loss: 5.0076e-04\n",
            "Epoch 17/200\n",
            "38/38 [==============================] - 20s 519ms/step - loss: 4.9524e-04\n",
            "Epoch 18/200\n",
            "38/38 [==============================] - 18s 476ms/step - loss: 4.7179e-04\n",
            "Epoch 19/200\n",
            "38/38 [==============================] - 18s 477ms/step - loss: 4.8026e-04\n",
            "Epoch 20/200\n",
            "38/38 [==============================] - 19s 511ms/step - loss: 4.4986e-04\n",
            "Epoch 21/200\n",
            "38/38 [==============================] - 19s 494ms/step - loss: 4.5537e-04\n",
            "Epoch 22/200\n",
            "38/38 [==============================] - 20s 516ms/step - loss: 4.3835e-04\n",
            "Epoch 23/200\n",
            "38/38 [==============================] - 18s 487ms/step - loss: 4.1330e-04\n",
            "Epoch 24/200\n",
            "38/38 [==============================] - 18s 481ms/step - loss: 4.6829e-04\n",
            "Epoch 25/200\n",
            "38/38 [==============================] - 19s 505ms/step - loss: 4.1546e-04\n",
            "Epoch 26/200\n",
            "38/38 [==============================] - 19s 503ms/step - loss: 4.2073e-04\n",
            "Epoch 27/200\n",
            "38/38 [==============================] - 18s 483ms/step - loss: 3.9092e-04\n",
            "Epoch 28/200\n",
            "38/38 [==============================] - 18s 485ms/step - loss: 3.7058e-04\n",
            "Epoch 29/200\n",
            "38/38 [==============================] - 19s 513ms/step - loss: 4.9882e-04\n",
            "Epoch 30/200\n",
            "38/38 [==============================] - 18s 482ms/step - loss: 3.5691e-04\n",
            "Epoch 31/200\n",
            "38/38 [==============================] - 18s 478ms/step - loss: 3.1280e-04\n",
            "Epoch 32/200\n",
            "38/38 [==============================] - 19s 502ms/step - loss: 3.1991e-04\n",
            "Epoch 33/200\n",
            "38/38 [==============================] - 20s 517ms/step - loss: 3.1235e-04\n",
            "Epoch 34/200\n",
            "38/38 [==============================] - 18s 481ms/step - loss: 3.0402e-04\n",
            "Epoch 35/200\n",
            "38/38 [==============================] - 18s 479ms/step - loss: 3.3743e-04\n",
            "Epoch 36/200\n",
            "38/38 [==============================] - 20s 521ms/step - loss: 3.8202e-04\n",
            "Epoch 37/200\n",
            "38/38 [==============================] - 19s 498ms/step - loss: 2.9830e-04\n",
            "Epoch 38/200\n",
            "38/38 [==============================] - 18s 477ms/step - loss: 2.8857e-04\n",
            "Epoch 39/200\n",
            "38/38 [==============================] - 19s 504ms/step - loss: 2.9170e-04\n",
            "Epoch 40/200\n",
            "38/38 [==============================] - 19s 503ms/step - loss: 3.0043e-04\n",
            "Epoch 41/200\n",
            "38/38 [==============================] - 19s 514ms/step - loss: 2.5753e-04\n",
            "Epoch 42/200\n",
            "38/38 [==============================] - 19s 489ms/step - loss: 2.7846e-04\n",
            "Epoch 43/200\n",
            "38/38 [==============================] - 18s 472ms/step - loss: 2.5243e-04\n",
            "Epoch 44/200\n",
            "38/38 [==============================] - 19s 495ms/step - loss: 2.7779e-04\n",
            "Epoch 45/200\n",
            "38/38 [==============================] - 19s 510ms/step - loss: 2.5564e-04\n",
            "Epoch 46/200\n",
            "38/38 [==============================] - 18s 482ms/step - loss: 2.4228e-04\n",
            "Epoch 47/200\n",
            "38/38 [==============================] - 18s 481ms/step - loss: 2.2814e-04\n",
            "Epoch 48/200\n",
            "38/38 [==============================] - 19s 508ms/step - loss: 2.3732e-04\n",
            "Epoch 49/200\n",
            "38/38 [==============================] - 19s 506ms/step - loss: 2.6776e-04\n",
            "Epoch 50/200\n",
            "38/38 [==============================] - 18s 481ms/step - loss: 2.3133e-04\n",
            "Epoch 51/200\n",
            "38/38 [==============================] - 19s 492ms/step - loss: 2.4201e-04\n",
            "Epoch 52/200\n",
            "38/38 [==============================] - 20s 515ms/step - loss: 2.2157e-04\n",
            "Epoch 53/200\n",
            "38/38 [==============================] - 18s 474ms/step - loss: 2.2172e-04\n",
            "Epoch 54/200\n",
            "38/38 [==============================] - 18s 474ms/step - loss: 2.0839e-04\n",
            "Epoch 55/200\n",
            "38/38 [==============================] - 19s 502ms/step - loss: 2.2316e-04\n",
            "Epoch 56/200\n",
            "38/38 [==============================] - 19s 494ms/step - loss: 1.9841e-04\n",
            "Epoch 57/200\n",
            "38/38 [==============================] - 20s 515ms/step - loss: 2.1210e-04\n",
            "Epoch 58/200\n",
            "38/38 [==============================] - 19s 488ms/step - loss: 2.1436e-04\n",
            "Epoch 59/200\n",
            "38/38 [==============================] - 18s 481ms/step - loss: 2.0264e-04\n",
            "Epoch 60/200\n",
            "38/38 [==============================] - 19s 492ms/step - loss: 1.8676e-04\n",
            "Epoch 61/200\n",
            "38/38 [==============================] - 19s 509ms/step - loss: 1.8510e-04\n",
            "Epoch 62/200\n",
            "38/38 [==============================] - 18s 480ms/step - loss: 2.0721e-04\n",
            "Epoch 63/200\n",
            "38/38 [==============================] - 18s 478ms/step - loss: 2.4391e-04\n",
            "Epoch 64/200\n",
            "38/38 [==============================] - 20s 521ms/step - loss: 1.9276e-04\n",
            "Epoch 65/200\n",
            "38/38 [==============================] - 19s 492ms/step - loss: 1.8434e-04\n",
            "Epoch 66/200\n",
            "38/38 [==============================] - 18s 479ms/step - loss: 1.7269e-04\n",
            "Epoch 67/200\n",
            "38/38 [==============================] - 19s 492ms/step - loss: 2.0154e-04\n",
            "Epoch 68/200\n",
            "38/38 [==============================] - 19s 511ms/step - loss: 1.8030e-04\n",
            "Epoch 69/200\n",
            "38/38 [==============================] - 18s 482ms/step - loss: 1.9052e-04\n",
            "Epoch 70/200\n",
            "38/38 [==============================] - 18s 472ms/step - loss: 1.7882e-04\n",
            "Epoch 71/200\n",
            "38/38 [==============================] - 20s 515ms/step - loss: 1.7221e-04\n",
            "Epoch 72/200\n",
            "38/38 [==============================] - 19s 486ms/step - loss: 1.8147e-04\n",
            "Epoch 73/200\n",
            "38/38 [==============================] - 18s 472ms/step - loss: 2.0447e-04\n",
            "Epoch 74/200\n",
            "38/38 [==============================] - 18s 481ms/step - loss: 1.9345e-04\n",
            "Epoch 75/200\n",
            "38/38 [==============================] - 19s 506ms/step - loss: 1.8031e-04\n",
            "Epoch 76/200\n",
            "38/38 [==============================] - 19s 494ms/step - loss: 1.8708e-04\n",
            "Epoch 77/200\n",
            "38/38 [==============================] - 19s 495ms/step - loss: 1.5901e-04\n",
            "Epoch 78/200\n",
            "38/38 [==============================] - 18s 472ms/step - loss: 1.9017e-04\n",
            "Epoch 79/200\n",
            "38/38 [==============================] - 18s 475ms/step - loss: 1.6359e-04\n",
            "Epoch 80/200\n",
            "38/38 [==============================] - 19s 502ms/step - loss: 2.2717e-04\n",
            "Epoch 81/200\n",
            "38/38 [==============================] - 18s 477ms/step - loss: 2.3140e-04\n",
            "Epoch 82/200\n",
            "38/38 [==============================] - 18s 475ms/step - loss: 1.5167e-04\n",
            "Epoch 83/200\n",
            "38/38 [==============================] - 18s 480ms/step - loss: 1.5142e-04\n",
            "Epoch 84/200\n",
            "38/38 [==============================] - 19s 502ms/step - loss: 1.5861e-04\n",
            "Epoch 85/200\n",
            "38/38 [==============================] - 18s 473ms/step - loss: 1.4975e-04\n",
            "Epoch 86/200\n",
            "38/38 [==============================] - 18s 469ms/step - loss: 1.4566e-04\n",
            "Epoch 87/200\n",
            "38/38 [==============================] - 19s 498ms/step - loss: 1.5484e-04\n",
            "Epoch 88/200\n",
            "38/38 [==============================] - 18s 484ms/step - loss: 1.5135e-04\n",
            "Epoch 89/200\n",
            "38/38 [==============================] - 18s 467ms/step - loss: 1.5568e-04\n",
            "Epoch 90/200\n",
            "38/38 [==============================] - 18s 475ms/step - loss: 1.2880e-04\n",
            "Epoch 91/200\n",
            "38/38 [==============================] - 19s 500ms/step - loss: 1.3591e-04\n",
            "Epoch 92/200\n",
            "38/38 [==============================] - 18s 485ms/step - loss: 1.3295e-04\n",
            "Epoch 93/200\n",
            "38/38 [==============================] - 19s 502ms/step - loss: 1.3067e-04\n",
            "Epoch 94/200\n",
            "38/38 [==============================] - 18s 471ms/step - loss: 1.2639e-04\n",
            "Epoch 95/200\n",
            "38/38 [==============================] - 18s 467ms/step - loss: 1.2921e-04\n",
            "Epoch 96/200\n",
            "38/38 [==============================] - 19s 492ms/step - loss: 1.2991e-04\n",
            "Epoch 97/200\n",
            "38/38 [==============================] - 19s 487ms/step - loss: 1.5260e-04\n",
            "Epoch 98/200\n",
            "38/38 [==============================] - 18s 467ms/step - loss: 1.2663e-04\n",
            "Epoch 99/200\n",
            "38/38 [==============================] - 18s 482ms/step - loss: 1.3332e-04\n",
            "Epoch 100/200\n",
            "38/38 [==============================] - 19s 512ms/step - loss: 1.2060e-04\n",
            "Epoch 101/200\n",
            "38/38 [==============================] - 18s 484ms/step - loss: 1.1621e-04\n",
            "Epoch 102/200\n",
            "38/38 [==============================] - 18s 468ms/step - loss: 1.2170e-04\n",
            "Epoch 103/200\n",
            "38/38 [==============================] - 19s 494ms/step - loss: 1.4015e-04\n",
            "Epoch 104/200\n",
            "38/38 [==============================] - 19s 492ms/step - loss: 1.6561e-04\n",
            "Epoch 105/200\n",
            "38/38 [==============================] - 18s 474ms/step - loss: 1.3698e-04\n",
            "Epoch 106/200\n",
            "38/38 [==============================] - 18s 472ms/step - loss: 1.4036e-04\n",
            "Epoch 107/200\n",
            "38/38 [==============================] - 19s 504ms/step - loss: 1.3397e-04\n",
            "Epoch 108/200\n",
            "38/38 [==============================] - 18s 475ms/step - loss: 1.2217e-04\n",
            "Epoch 109/200\n",
            "38/38 [==============================] - 18s 472ms/step - loss: 1.2091e-04\n",
            "Epoch 110/200\n",
            "38/38 [==============================] - 18s 487ms/step - loss: 1.2451e-04\n",
            "Epoch 111/200\n",
            "38/38 [==============================] - 19s 499ms/step - loss: 1.2351e-04\n",
            "Epoch 112/200\n",
            "38/38 [==============================] - 19s 493ms/step - loss: 1.1524e-04\n",
            "Epoch 113/200\n",
            "38/38 [==============================] - 19s 491ms/step - loss: 1.1198e-04\n",
            "Epoch 114/200\n",
            "38/38 [==============================] - 18s 471ms/step - loss: 1.1569e-04\n",
            "Epoch 115/200\n",
            "38/38 [==============================] - 18s 474ms/step - loss: 1.1098e-04\n",
            "Epoch 116/200\n",
            "38/38 [==============================] - 19s 502ms/step - loss: 1.1614e-04\n",
            "Epoch 117/200\n",
            "38/38 [==============================] - 18s 485ms/step - loss: 1.2314e-04\n",
            "Epoch 118/200\n",
            "38/38 [==============================] - 18s 474ms/step - loss: 1.0985e-04\n",
            "Epoch 119/200\n",
            "38/38 [==============================] - 18s 487ms/step - loss: 1.0915e-04\n",
            "Epoch 120/200\n",
            "38/38 [==============================] - 19s 495ms/step - loss: 1.0010e-04\n",
            "Epoch 121/200\n",
            "38/38 [==============================] - 18s 471ms/step - loss: 1.0152e-04\n",
            "Epoch 122/200\n",
            "38/38 [==============================] - 18s 470ms/step - loss: 1.1287e-04\n",
            "Epoch 123/200\n",
            "38/38 [==============================] - 19s 502ms/step - loss: 1.0625e-04\n",
            "Epoch 124/200\n",
            "38/38 [==============================] - 18s 485ms/step - loss: 1.1316e-04\n",
            "Epoch 125/200\n",
            "38/38 [==============================] - 18s 469ms/step - loss: 1.0245e-04\n",
            "Epoch 126/200\n",
            "38/38 [==============================] - 18s 477ms/step - loss: 1.0669e-04\n",
            "Epoch 127/200\n",
            "38/38 [==============================] - 19s 502ms/step - loss: 9.7772e-05\n",
            "Epoch 128/200\n",
            "38/38 [==============================] - 18s 485ms/step - loss: 1.0643e-04\n",
            "Epoch 129/200\n",
            "38/38 [==============================] - 19s 498ms/step - loss: 1.0611e-04\n",
            "Epoch 130/200\n",
            "38/38 [==============================] - 18s 470ms/step - loss: 1.0465e-04\n",
            "Epoch 131/200\n",
            "38/38 [==============================] - 18s 467ms/step - loss: 1.1954e-04\n",
            "Epoch 132/200\n",
            "38/38 [==============================] - 19s 502ms/step - loss: 1.1456e-04\n",
            "Epoch 133/200\n",
            "38/38 [==============================] - 19s 488ms/step - loss: 9.7286e-05\n",
            "Epoch 134/200\n",
            "38/38 [==============================] - 18s 474ms/step - loss: 1.0946e-04\n",
            "Epoch 135/200\n",
            "38/38 [==============================] - 19s 488ms/step - loss: 1.4140e-04\n",
            "Epoch 136/200\n",
            "38/38 [==============================] - 19s 499ms/step - loss: 1.0168e-04\n",
            "Epoch 137/200\n",
            "38/38 [==============================] - 18s 478ms/step - loss: 1.2281e-04\n",
            "Epoch 138/200\n",
            "38/38 [==============================] - 18s 470ms/step - loss: 1.2568e-04\n",
            "Epoch 139/200\n",
            "38/38 [==============================] - 19s 499ms/step - loss: 9.5110e-05\n",
            "Epoch 140/200\n",
            "38/38 [==============================] - 18s 484ms/step - loss: 1.0773e-04\n",
            "Epoch 141/200\n",
            "38/38 [==============================] - 18s 474ms/step - loss: 9.5935e-05\n",
            "Epoch 142/200\n",
            "38/38 [==============================] - 18s 483ms/step - loss: 9.4275e-05\n",
            "Epoch 143/200\n",
            "38/38 [==============================] - 19s 500ms/step - loss: 1.0632e-04\n",
            "Epoch 144/200\n",
            "38/38 [==============================] - 19s 492ms/step - loss: 1.0218e-04\n",
            "Epoch 145/200\n",
            "38/38 [==============================] - 19s 502ms/step - loss: 9.8984e-05\n",
            "Epoch 146/200\n",
            "38/38 [==============================] - 18s 473ms/step - loss: 1.1404e-04\n",
            "Epoch 147/200\n",
            "38/38 [==============================] - 18s 474ms/step - loss: 9.4517e-05\n",
            "Epoch 148/200\n",
            "38/38 [==============================] - 19s 504ms/step - loss: 9.9388e-05\n",
            "Epoch 149/200\n",
            "38/38 [==============================] - 19s 490ms/step - loss: 1.0765e-04\n",
            "Epoch 150/200\n",
            "38/38 [==============================] - 18s 474ms/step - loss: 1.0397e-04\n",
            "Epoch 151/200\n",
            "38/38 [==============================] - 19s 489ms/step - loss: 1.0373e-04\n",
            "Epoch 152/200\n",
            "38/38 [==============================] - 19s 506ms/step - loss: 9.1995e-05\n",
            "Epoch 153/200\n",
            "38/38 [==============================] - 18s 472ms/step - loss: 8.7768e-05\n",
            "Epoch 154/200\n",
            "38/38 [==============================] - 18s 468ms/step - loss: 9.5020e-05\n",
            "Epoch 155/200\n",
            "38/38 [==============================] - 19s 492ms/step - loss: 1.0594e-04\n",
            "Epoch 156/200\n",
            "38/38 [==============================] - 19s 495ms/step - loss: 1.1776e-04\n",
            "Epoch 157/200\n",
            "38/38 [==============================] - 18s 468ms/step - loss: 1.0142e-04\n",
            "Epoch 158/200\n",
            "38/38 [==============================] - 18s 479ms/step - loss: 9.0073e-05\n",
            "Epoch 159/200\n",
            "38/38 [==============================] - 19s 504ms/step - loss: 9.3247e-05\n",
            "Epoch 160/200\n",
            "38/38 [==============================] - 18s 479ms/step - loss: 9.4286e-05\n",
            "Epoch 161/200\n",
            "38/38 [==============================] - 18s 470ms/step - loss: 1.0575e-04\n",
            "Epoch 162/200\n",
            "38/38 [==============================] - 18s 486ms/step - loss: 8.9654e-05\n",
            "Epoch 163/200\n",
            "38/38 [==============================] - 19s 500ms/step - loss: 9.7645e-05\n",
            "Epoch 164/200\n",
            "38/38 [==============================] - 19s 492ms/step - loss: 1.1489e-04\n",
            "Epoch 165/200\n",
            "38/38 [==============================] - 19s 499ms/step - loss: 1.2724e-04\n",
            "Epoch 166/200\n",
            "38/38 [==============================] - 18s 481ms/step - loss: 9.5901e-05\n",
            "Epoch 167/200\n",
            "38/38 [==============================] - 18s 484ms/step - loss: 9.3600e-05\n",
            "Epoch 168/200\n",
            "38/38 [==============================] - 19s 503ms/step - loss: 1.0066e-04\n",
            "Epoch 169/200\n",
            "38/38 [==============================] - 18s 480ms/step - loss: 1.0336e-04\n",
            "Epoch 170/200\n",
            "38/38 [==============================] - 18s 472ms/step - loss: 9.2878e-05\n",
            "Epoch 171/200\n",
            "38/38 [==============================] - 19s 490ms/step - loss: 8.9952e-05\n",
            "Epoch 172/200\n",
            "38/38 [==============================] - 19s 496ms/step - loss: 9.3136e-05\n",
            "Epoch 173/200\n",
            "38/38 [==============================] - 18s 471ms/step - loss: 9.9496e-05\n",
            "Epoch 174/200\n",
            "38/38 [==============================] - 18s 468ms/step - loss: 1.0491e-04\n",
            "Epoch 175/200\n",
            "38/38 [==============================] - 19s 501ms/step - loss: 1.1259e-04\n",
            "Epoch 176/200\n",
            "38/38 [==============================] - 18s 483ms/step - loss: 1.0273e-04\n",
            "Epoch 177/200\n",
            "38/38 [==============================] - 18s 476ms/step - loss: 1.1862e-04\n",
            "Epoch 178/200\n",
            "38/38 [==============================] - 18s 479ms/step - loss: 1.0756e-04\n",
            "Epoch 179/200\n",
            "38/38 [==============================] - 19s 503ms/step - loss: 1.3477e-04\n",
            "Epoch 180/200\n",
            "38/38 [==============================] - 19s 496ms/step - loss: 1.1402e-04\n",
            "Epoch 181/200\n",
            "38/38 [==============================] - 19s 492ms/step - loss: 8.4385e-05\n",
            "Epoch 182/200\n",
            "38/38 [==============================] - 18s 477ms/step - loss: 9.0645e-05\n",
            "Epoch 183/200\n",
            "38/38 [==============================] - 18s 473ms/step - loss: 8.6218e-05\n",
            "Epoch 184/200\n",
            "38/38 [==============================] - 19s 500ms/step - loss: 9.5952e-05\n",
            "Epoch 185/200\n",
            "38/38 [==============================] - 18s 477ms/step - loss: 1.0043e-04\n",
            "Epoch 186/200\n",
            "38/38 [==============================] - 18s 468ms/step - loss: 8.9114e-05\n",
            "Epoch 187/200\n",
            "38/38 [==============================] - 19s 489ms/step - loss: 9.3864e-05\n",
            "Epoch 188/200\n",
            "38/38 [==============================] - 19s 508ms/step - loss: 9.1275e-05\n",
            "Epoch 189/200\n",
            "38/38 [==============================] - 18s 473ms/step - loss: 9.8375e-05\n",
            "Epoch 190/200\n",
            "38/38 [==============================] - 18s 473ms/step - loss: 8.1784e-05\n",
            "Epoch 191/200\n",
            "38/38 [==============================] - 19s 500ms/step - loss: 8.2150e-05\n",
            "Epoch 192/200\n",
            "38/38 [==============================] - 18s 485ms/step - loss: 8.2193e-05\n",
            "Epoch 193/200\n",
            "38/38 [==============================] - 18s 475ms/step - loss: 8.5566e-05\n",
            "Epoch 194/200\n",
            "38/38 [==============================] - 18s 482ms/step - loss: 8.1996e-05\n",
            "Epoch 195/200\n",
            "38/38 [==============================] - 19s 506ms/step - loss: 1.0413e-04\n",
            "Epoch 196/200\n",
            "38/38 [==============================] - 18s 474ms/step - loss: 9.8771e-05\n",
            "Epoch 197/200\n",
            "38/38 [==============================] - 18s 471ms/step - loss: 8.4321e-05\n",
            "Epoch 198/200\n",
            "38/38 [==============================] - 19s 503ms/step - loss: 9.2134e-05\n",
            "Epoch 199/200\n",
            "38/38 [==============================] - 19s 488ms/step - loss: 8.8358e-05\n",
            "Epoch 200/200\n",
            "38/38 [==============================] - 19s 507ms/step - loss: 8.5263e-05\n"
          ],
          "name": "stdout"
        },
        {
          "output_type": "execute_result",
          "data": {
            "text/plain": [
              "<tensorflow.python.keras.callbacks.History at 0x7f652a2cf390>"
            ]
          },
          "metadata": {
            "tags": []
          },
          "execution_count": 20
        }
      ]
    },
    {
      "cell_type": "code",
      "metadata": {
        "id": "rjvi39wjp3Tq"
      },
      "source": [
        "predicted_value = model.predict(X_test)"
      ],
      "execution_count": null,
      "outputs": []
    },
    {
      "cell_type": "code",
      "metadata": {
        "colab": {
          "base_uri": "https://localhost:8080/",
          "height": 567
        },
        "id": "7IyfpnixqAUP",
        "outputId": "ba12a134-46d5-4be0-b22d-cb31e3eece07"
      },
      "source": [
        "plt.plot(predicted_value, color= 'orange')\n",
        "plt.plot(input_data[lookback:test_size+(2*lookback),1], color='blue')\n",
        "plt.title(\"Opening price of stocks sold\")\n",
        "plt.xlabel(\"Time\")\n",
        "plt.ylabel(\"Stock Opening Price\")\n",
        "plt.show()"
      ],
      "execution_count": null,
      "outputs": [
        {
          "output_type": "display_data",
          "data": {
            "image/png": "[encoded data removed]",
            "text/plain": [
              "<Figure size 648x648 with 1 Axes>"
            ]
          },
          "metadata": {
            "tags": [],
            "needs_background": "light"
          }
        }
      ]
    },
    {
      "cell_type": "code",
      "metadata": {
        "id": "Hfli8k37qER2"
      },
      "source": [
        ""
      ],
      "execution_count": null,
      "outputs": []
    }
  ]
}